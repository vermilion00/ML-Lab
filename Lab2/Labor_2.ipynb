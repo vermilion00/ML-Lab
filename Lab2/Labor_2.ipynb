{
 "cells": [
  {
   "cell_type": "markdown",
   "metadata": {},
   "source": [
    "# Klassifizierung des Iris-Datensatzes mit dem K-Nearest-Neighbor Algorithmus/Classification of the iris dataset using the K-Nearest Neighbor algorithm."
   ]
  },
  {
   "cell_type": "markdown",
   "metadata": {},
   "source": [
    "<p>Dieses Labor befasst sich mit der Implementierung des K-Nearest Neighbor-Algorithmus.</p>\n",
    "\n",
    "<p>In dieser Aufgabe werden wir Irisdaten laden, sie in Test- und Trainingsdaten aufteilen, eine kleine Funktion zur Berechnung des euklidischen Abstands schreiben und diesen Abstand für jeden Punkt in den Testdaten berechnen. Wir werden den K-Nächster-Nachbar-Algorithmus schreiben und die Genauigkeit der Vorhersage von Irisdaten bestimmen</p>\n",
    "\n",
    "<p><a href=\"https://www.youtube.com/watch?v=wTF6vzS9fy4\">More info on KNN</a></p>\n",
    "<p><a href=\"https://en.wikipedia.org/wiki/Iris_flower_data_set\">More info on Iris database</a></p>"
   ]
  },
  {
   "cell_type": "markdown",
   "metadata": {},
   "source": [
    "<p>This lab is about the implementation of the K-Nearest Neighbor algorithm.</p>\n",
    "\n",
    "<p>In this task, we will load iris data, split it into test and training data, write a small function to calculate the Euclidean distance, and calculate this distance for each point in the test data. We will write the K-nearest neighbor algorithm and determine the accuracy of predicting iris data</p>\n",
    "\n",
    "<p><a href=\"https://www.youtube.com/watch?v=wTF6vzS9fy4\">More info on KNN</a></p>\n",
    "<p><a href=\"https://en.wikipedia.org/wiki/Iris_flower_data_set\">More info on Iris database</a></p>"
   ]
  },
  {
   "cell_type": "markdown",
   "metadata": {},
   "source": [
    "### Importiere numpy; iris dataset und train_test_split aus sklearn.datasets / Import numpy; iris dataset and train_test_split from sklearn.datasets \n",
    "<i>(Hint: Installieren Sie sklearn, falls Sie es noch nicht getan haben / Install sklearn if you have not already done so)</i>"
   ]
  },
  {
   "cell_type": "code",
   "execution_count": 1,
   "metadata": {},
   "outputs": [],
   "source": [
    "import numpy as np\n",
    "# Here you import iris dataset from sklearn.datasets\n",
    "# Here you import train_test_split from sklearn.model_selection"
   ]
  },
  {
   "cell_type": "markdown",
   "metadata": {},
   "source": [
    "### Laden des Iris Datensatzes in eine Variable und Abrufen von DATA und TARGET in zwei separaten Variablen irisData und irisLabels / Load dataset in a variable and get data and target in two separate variables irisData and irisLabels\n",
    "<i>data: The data matrix. (Actual data for training and testing)</i><br/>\n",
    "<i>target: classification target. (Labels)</i><br/>\n",
    "<p>Print irisData and irisLabels</p>"
   ]
  },
  {
   "cell_type": "code",
   "execution_count": null,
   "metadata": {},
   "outputs": [],
   "source": [
    "# dataset = load data from iris dataset\n",
    "# irisData = dataset.data\n",
    "# irisLabels = dataset.target"
   ]
  },
  {
   "cell_type": "markdown",
   "metadata": {},
   "source": [
    "<i>data and target should look like following result</i>"
   ]
  },
  {
   "cell_type": "code",
   "execution_count": 2,
   "metadata": {},
   "outputs": [],
   "source": [
    "# Example of how irisData should look -\n",
    "#  [[5.1 3.5 1.4 0.2] - Row 1 - For one entry of flower\n",
    "#  [4.9 3.  1.4 0.2]  - Row 1 - For second entry of flower\n",
    "#  [4.7 3.2 1.3 0.2]  .\n",
    "#  [4.6 3.1 1.5 0.2]  .\n",
    "#  [5.  3.6 1.4 0.2]  .\n",
    "#  [5.4 3.9 1.7 0.4]  .\n",
    "#  [4.6 3.4 1.4 0.3]  - Row n - For nth Entry of flower\n",
    "#  ]\n",
    "\n",
    "# Example of how irisLabels should look - \n",
    "# [0 - Class label for first entry of flower 0 - Class label for second entry of flower 0 0 0 0 0 0 0 0 0 0 0 0 0 0 0 0 0 0 0 0 0 0 0 0 0 0 0 0 0 0 0 0 0 0 0\n",
    "#  0 0 0 0 0 0 0 0 0 0 0 0 0 1 1 1 1 1 1 1 1 1 1 1 1 1 1 1 1 1 1 1 1 1 1 1 1\n",
    "#  1 1 1 1 1 1 1 1 1 1 1 1 1 1 1 1 1 1 1 1 1 1 1 1 1 1 2 2 2 2 2 2 2 2 2 2 2\n",
    "#  2 2 2 2 2 2 2 2 2 2 2 2 2 2 2 2 2 2 2 2 2 2 2 2 2 2 2 2 2 2 2 2 2 2 2 2 2\n",
    "#  2 2 - Class label for nth entry of flower]"
   ]
  },
  {
   "cell_type": "markdown",
   "metadata": {},
   "source": [
    "## Finden Sie den Standardisierung für alle Werte von irisData / Find Standard-Score for all values of irisData\n",
    "<p>Unter Standardisierung (in einführenden Statistikkursen wird sie manchmal als z-Transformation bezeichnet[1]) versteht man in der mathematischen Statistik eine Transformation einer Zufallsvariablen, so dass die resultierende Zufallsvariable den Erwartungswert null und die Varianz eins besitzt. </p>\n",
    "<p>Psuedo code für Standardisierung: <strong>Z = irisData-mean(irisData)/std(irisData)</strong></p>\n",
    "<p>More info on Standard-Score - <a href=\"https://de.wikipedia.org/wiki/Standardisierung_(Statistik)\">Standardisierung </a></p>\n",
    "\n",
    "<p>Standardization (sometimes referred to as the z-transformation in introductory statistics courses[1]) in mathematical statistics is the transformation of a random variable so that the resulting random variable has expected value zero and variance one. </p>\n",
    "<p>Psuedo code for standardization: <strong>Z = irisData-mean(irisData)/std(irisData)</strong></p>\n",
    "<p>More info on Standard-Score - <a href=\"https://de.wikipedia.org/wiki/Standardisierung_(Statistik)\">Standardisierung </a></p>"
   ]
  },
  {
   "cell_type": "code",
   "execution_count": null,
   "metadata": {},
   "outputs": [],
   "source": [
    "# Result - \n",
    "# [[-9.00681170e-01  1.01900435e+00 -1.34022653e+00 -1.31544430e+00]\n",
    "#  [-1.14301691e+00 -1.31979479e-01 -1.34022653e+00 -1.31544430e+00]\n",
    "#  [-1.38535265e+00  3.28414053e-01 -1.39706395e+00 -1.31544430e+00]\n",
    "#  [-1.50652052e+00  9.82172869e-02 -1.28338910e+00 -1.31544430e+00]\n",
    "#  [-1.02184904e+00  1.24920112e+00 -1.34022653e+00 -1.31544430e+00]\n",
    "#  [-5.37177559e-01  1.93979142e+00 -1.16971425e+00 -1.05217993e+00]\n",
    "#  [-1.50652052e+00  7.88807586e-01 -1.34022653e+00 -1.18381211e+00]\n",
    "#  [-1.02184904e+00  7.88807586e-01 -1.28338910e+00 -1.31544430e+00]\n",
    "#  [-1.74885626e+00 -3.62176246e-01 -1.34022653e+00 -1.31544430e+00]\n",
    "#  [-1.14301691e+00  9.82172869e-02 -1.28338910e+00 -1.44707648e+00]\n",
    "#  [-5.37177559e-01  1.47939788e+00 -1.28338910e+00 -1.31544430e+00]\n",
    "#  [-1.26418478e+00  7.88807586e-01 -1.22655167e+00 -1.31544430e+00]\n",
    "#  [-1.26418478e+00 -1.31979479e-01 -1.34022653e+00 -1.44707648e+00]......]\n"
   ]
  },
  {
   "cell_type": "markdown",
   "metadata": {},
   "source": [
    "### Verwenden Sie train_test_split / Use train_test_split\n",
    "<p>Mit train_test_split die irisData und irisLabels in Trainings- und Testdatensätze aufteilen / Use train_test_split to split the irisData and irisLabels into training and test data sets</p>\n",
    "<p>Ordnen Sie das Ergebnis zu irisData_train, irisData_test, irisLabels_train, irisLabels_test / Assign the result to irisData_train, irisData_test, irisLabels_train, irisLabels_test</p>\n",
    "<p>test_size = 0.3, random_state = 45</p>\n",
    "<p>Print train and test data and labels</p>"
   ]
  },
  {
   "cell_type": "code",
   "execution_count": null,
   "metadata": {},
   "outputs": [],
   "source": [
    "# irisData_train, irisData_test, irisLabels_train, irisLabels_test = train_test_split()"
   ]
  },
  {
   "cell_type": "markdown",
   "metadata": {},
   "source": [
    "### Erstellen Sie eine neue Datei namens knn.py / Create a new file named knn.py\n",
    "<p>Erstellen Sie in dieser Datei eine neue Klasse namens KNearestNeighbors. / In this file, create a new class called KNearestNeighbors.</p>\n",
    "<p>Schreiben Sie eine Initialisierungsfunktion, die 3 Parameter annimmt - X_train, Y_train, and n_neighbors (k value) / Write an initialization function that takes 3 parameters - X_train, Y_train, and n_neighbors (k value).</p>\n",
    "<p>Weisen Sie die Werte den globalen Variablen zu (self) / Assign the values to the global variables (self)</p>"
   ]
  },
  {
   "cell_type": "code",
   "execution_count": null,
   "metadata": {},
   "outputs": [],
   "source": [
    "## Psuedocode - \n",
    "## class KNearestNeighbors(): \n",
    "## _init_(self, X_train, Y_train, n_neighbors):\n",
    "## self.X_train = x_train\n",
    "## ......."
   ]
  },
  {
   "cell_type": "markdown",
   "metadata": {},
   "source": [
    "### Schreiben Sie eine Funktion zur Berechnung des euklidischen Abstands zwischen 2 Punkten / Write a function to calculate the Euclidean distance between 2 points\n",
    "<p>Schreiben Sie eine Funktion zur Berechnung des euklidischen Abstands zwischen 2 Punkten / Write a function to calculate the Euclidean distance between 2 points</p>\n",
    "<p>Berechnen Sie den Abstand zwischen jedem Punkt von irisData_test und irisData_train / Calculate the distance between each point of irisData_test and irisData_train</p>\n",
    "<p>Print result</p>\n",
    "<br/><i>Hint:</i><br/><img src=\"https://www.saedsayad.com/images/KNN_similarity.png\">\n",
    "<p><a href=\"https://www.youtube.com/watch?v=2aMa_mSlhQQ\">More info on Euclidean Distance</a></p>\n"
   ]
  },
  {
   "cell_type": "code",
   "execution_count": 7,
   "metadata": {},
   "outputs": [],
   "source": [
    "# Psuedo code -\n",
    "\n",
    "# ## def euclidian_distance(self, a, b): return squareroot(sum(a-b)**2)\n",
    "# for testData in irisData_test -> distance = euclidian_distance(testData, irisData_train) -> point_distance.append(distance)\n",
    "\n",
    "\n",
    "# RESULT - \n",
    "\n",
    "# [array([0.53338619, 3.97412718, 3.66570053, 5.13877224, 0.35922722,\n",
    "#        1.21417696, 2.77931239, 4.12690982, 0.52337301, 4.37145822,\n",
    "#        0.70531729, 0.85131861, 2.89615505, 0.91867093, 3.02775297,\n",
    "#        3.78138011, 3.26866148, 3.01473784, 4.20338798, 0.84560741,\n",
    "#        0.23710977, 2.86002385, 0.63006343, 2.88878634,......]), array([0.54697576, 3.69050304, 3.54422981, 4.90082367, 0.71677749,\n",
    "#        1.24593565, 2.44410261, 3.81333346, 0.79029114, 4.01752129,\n",
    "#        0.80670341, 0.9414257 , 2.63681108, 1.00098746, 2.79566731,\n",
    "#        3.5639516 , 2.93190153, 2.82306593, 3.88751743, 0.9567428 ,\n",
    "#        0.59002984, 2.86054163, 0.49719351, 2.66135409, 0.57745438,\n",
    "#        3.25007846, 4.8556101 , 2.9623694 , 2.84627722, 2.68809819,\n",
    "#        1.13970907, 0.75389655, 3.24801752, 1.16425501, 2.7379115 ,\n",
    "#        3.89903253, 5.00979767, 3.62042472, 2.89411213,......])..........]"
   ]
  },
  {
   "cell_type": "markdown",
   "metadata": {},
   "source": [
    "### Schreiben Sie eine neue Funktion namens kneighbors, die einen Eingabeparameter benötigt - X_test / Write a new function called kneighbors that takes one input parameter - X_test\n",
    "<p>Diese Funktion sollte die Funktion calc_euclidean aufrufen, um den euklidischen Abstand für jeden Punkt in X_test mit X_train zu berechnen und ihn zu einem Array hinzuzufügen / This function should call the calc_euclidean function to calculate the Euclidean distance for each point in X_test with X_train and add it to an array</p>\n",
    "<p>Hinzufügen aller Distanzen zu einem Array / Adding all distances to an array</p>\n",
    "<p>Verwenden Sie die Methode enumerate, um den Index der Abstände zu erhalten / Use the enumerate method to get the index of the distances</p>\n",
    "<p>Verwenden Sie die Sorted funktion, um die Distanzen nach kleiner bis größer zu sortieren. / Use the Sorted function to sort the distances from smaller to larger.</p>\n",
    "<p>Nur die 5 besten Werte für jede Zeile nehmen / Take only the 5 best values for each row</p>"
   ]
  },
  {
   "cell_type": "code",
   "execution_count": null,
   "metadata": {},
   "outputs": [],
   "source": [
    "##def kneighbors(self, X_test):\n",
    "    ## neigh_ind = []\n",
    "    ## for each x in X_test -> point = calc_euclidean(x,X_train) -> points.append(point)\n",
    "    ## en = enumerate(points)\n",
    "    ## so = sorted(en)[:5]\n",
    "    ## neigh_ind.append(so)\n",
    "## return neigh_ind"
   ]
  },
  {
   "cell_type": "markdown",
   "metadata": {},
   "source": [
    "### Schreiben Sie eine Funktion zur Vorhersage der Klasse für Werte in X_test / Write a function to predict the class for values in X_test\n",
    "<p>Die Funktion benötigt 1 Argument X_test / The function takes 1 argument X_test</p>\n",
    "<p>Funktion ruft kneighbors auf, um die Nachbarindizes zu erhalten / Function calls kneighbors to get the neighbor indexes</p>\n",
    "<p>Verwenden Sie argmax und bincount von Numpy, um die gemeinsame labels der maximalen Anzahl von Nachbarn zu finden / Use argmax and bincount from Numpy to find the common labels of the maximum number of neighbors</p>\n",
    "<p>Das Label zum Array hinzufügen und zurückgeben / Add the label to the array and return it</p>"
   ]
  },
  {
   "cell_type": "code",
   "execution_count": null,
   "metadata": {},
   "outputs": [],
   "source": [
    "# def predict(self, X_test):\n",
    "    \n",
    "#             neighbors = kneighbors(X_test)\n",
    "#             y_preds = []\n",
    "#             for neighbor in neighbors:\n",
    "#               y_pred = argmax(bincount(y_train[neighbor]))\n",
    "#               y_preds.append(y_pred)\n",
    "\n",
    "# return y_preds"
   ]
  },
  {
   "cell_type": "markdown",
   "metadata": {},
   "source": [
    "### Erstellen Sie eine neue Python-Klasse knntest.py / Create a new Python class knntest.py\n",
    "<p>Iris-Datensatz laden / Load iris data set</p>\n",
    "<p>Labels und Daten in zwei verschiedenen Variablen aus dem Iris-Datensatz abrufen / Retrieve labels and data in two different variables from the iris dataset</p>\n",
    "<p>Aufteilung der Daten und Labels in train und test mit train_test_split() / Split the data and labels into train and test with train_test_split()</p>\n",
    "<p>Verwenden Sie die im vorherigen Teil erstellte Klasse KNearestNeighbor / Use the KNearestNeighbor class created in the previous part.</p>\n",
    "<p>Aufruf der Funktion Predict, um Vorhersagen zu erhalten / Calling the Predict function to get predictions</p>\n",
    "<p>Vergleichen Sie diese Vorhersagen mit den Testlabels, um die Genauigkeit zu ermitteln. / Compare these predictions to the test labels to determine accuracy.</p>"
   ]
  }
 ],
 "metadata": {
  "interpreter": {
   "hash": "6404e728a95b99d3b6da62b8f4bc2464d97773f5790b73c395179a9cb1039be6"
  },
  "kernelspec": {
   "display_name": "Python 3.9.8 64-bit (windows store)",
   "name": "python3"
  },
  "language_info": {
   "codemirror_mode": {
    "name": "ipython",
    "version": 3
   },
   "file_extension": ".py",
   "mimetype": "text/x-python",
   "name": "python",
   "nbconvert_exporter": "python",
   "pygments_lexer": "ipython3",
   "version": "3.12.1"
  },
  "orig_nbformat": 4
 },
 "nbformat": 4,
 "nbformat_minor": 2
}
